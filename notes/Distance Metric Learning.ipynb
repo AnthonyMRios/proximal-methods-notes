{
 "cells": [
  {
   "cell_type": "markdown",
   "metadata": {},
   "source": [
    "# Distance Metric Learning\n",
    "\n",
    "I have implemented this method in the file GSML.py. It optimizes the following loss function:\n",
    "\n",
    "$$min_W\\, \\sum_{i,j,k \\in T} max(0, 1 + (x_i-x_j)^T W (x_i-x_j) - (x_i-x_k)^T W (x_i-x_k) + tr(LW)$$\n",
    "such that $W \\in S^+$ and where $T$ is the set of triples where $x_j$ is a similar instance to $x_i$ and $x_k$ is a disimilar instance."
   ]
  },
  {
   "cell_type": "code",
   "execution_count": 24,
   "metadata": {
    "collapsed": true
   },
   "outputs": [],
   "source": [
    "import pickle\n",
    "import numpy as np\n",
    "import itertools\n",
    "import random\n",
    "\n",
    "from GSML import GSML"
   ]
  },
  {
   "cell_type": "code",
   "execution_count": 25,
   "metadata": {
    "collapsed": false
   },
   "outputs": [],
   "source": [
    "from sklearn.datasets import load_iris"
   ]
  },
  {
   "cell_type": "code",
   "execution_count": 26,
   "metadata": {
    "collapsed": false
   },
   "outputs": [
    {
     "name": "stdout",
     "output_type": "stream",
     "text": [
      "[0 0 0 0 0 0 0 0 0 0 0 0 0 0 0 0 0 0 0 0 0 0 0 0 0 0 0 0 0 0 0 0 0 0 0 0 0\n",
      " 0 0 0 0 0 0 0 0 0 0 0 0 0 1 1 1 1 1 1 1 1 1 1 1 1 1 1 1 1 1 1 1 1 1 1 1 1\n",
      " 1 1 1 1 1 1 1 1 1 1 1 1 1 1 1 1 1 1 1 1 1 1 1 1 1 1 2 2 2 2 2 2 2 2 2 2 2\n",
      " 2 2 2 2 2 2 2 2 2 2 2 2 2 2 2 2 2 2 2 2 2 2 2 2 2 2 2 2 2 2 2 2 2 2 2 2 2\n",
      " 2 2] (150,)\n"
     ]
    }
   ],
   "source": [
    "iris = load_iris()\n",
    "X = iris.data\n",
    "Y = iris.target\n",
    "print Y, Y.shape"
   ]
  },
  {
   "cell_type": "code",
   "execution_count": 27,
   "metadata": {
    "collapsed": false
   },
   "outputs": [
    {
     "name": "stdout",
     "output_type": "stream",
     "text": [
      "1225 1225 1225\n",
      "(3675, 3)\n"
     ]
    }
   ],
   "source": [
    "same_0 = list(itertools.combinations(np.where(Y==0)[0], 2))\n",
    "same_1 = list(itertools.combinations(np.where(Y==1)[0], 2))\n",
    "same_2 = list(itertools.combinations(np.where(Y==2)[0], 2))\n",
    "print len(same_0), len(same_1), len(same_2)\n",
    "dif_0 = []\n",
    "dif_1 = []\n",
    "dif_2 = []\n",
    "for x in same_0:\n",
    "    if np.random.random() < .5:\n",
    "        dif_0.append([x[0], x[1], np.random.choice(np.where(Y==1)[0])])\n",
    "    else:\n",
    "        dif_0.append([x[0], x[1], np.random.choice(np.where(Y==2)[0])])\n",
    "for x in same_1:\n",
    "    if np.random.random() < .5:\n",
    "        dif_1.append([x[0], x[1], np.random.choice(np.where(Y==0)[0])])\n",
    "    else:\n",
    "        dif_1.append([x[0], x[1], np.random.choice(np.where(Y==2)[0])])\n",
    "for x in same_2:\n",
    "    if np.random.random() < .5:\n",
    "        dif_2.append([x[0], x[1], np.random.choice(np.where(Y==0)[0])])\n",
    "    else:\n",
    "        dif_2.append([x[0], x[1], np.random.choice(np.where(Y==1)[0])])\n",
    "L = dif_0+dif_1+dif_2\n",
    "random.shuffle(L)\n",
    "L = np.array(L)\n",
    "print L.shape"
   ]
  },
  {
   "cell_type": "code",
   "execution_count": 30,
   "metadata": {
    "collapsed": false
   },
   "outputs": [
    {
     "name": "stdout",
     "output_type": "stream",
     "text": [
      "3440 3675 0.936054421769\n"
     ]
    }
   ],
   "source": [
    "total = 0\n",
    "tp = 0\n",
    "for query, c1, c2 in zip(L[:,0], L[:,1], L[:,2]):\n",
    "    if np.linalg.norm(X[query]-X[c1]) < np.linalg.norm(X[query]-X[c2]):\n",
    "        tp += 1\n",
    "    total += 1\n",
    "print tp, total, float(tp)/total   "
   ]
  },
  {
   "cell_type": "code",
   "execution_count": 31,
   "metadata": {
    "collapsed": false
   },
   "outputs": [
    {
     "name": "stdout",
     "output_type": "stream",
     "text": [
      "0\n",
      "0 done: 0.0204141139984 214 214 0\n",
      "1\n",
      "1 done: 0.0300679206848 129 38 123\n",
      "2\n",
      "2 done: 0.0242891311646 117 8 20\n",
      "3\n",
      "3 done: 0.0187430381775 122 13 8\n"
     ]
    },
    {
     "ename": "NameError",
     "evalue": "name 'dataset' is not defined",
     "output_type": "error",
     "traceback": [
      "\u001b[0;31m---------------------------------------------------------------------------\u001b[0m",
      "\u001b[0;31mNameError\u001b[0m                                 Traceback (most recent call last)",
      "\u001b[0;32m<ipython-input-31-44b04313008f>\u001b[0m in \u001b[0;36m<module>\u001b[0;34m()\u001b[0m\n\u001b[1;32m      4\u001b[0m \u001b[0mtp\u001b[0m \u001b[0;34m=\u001b[0m \u001b[0;36m0\u001b[0m\u001b[0;34m\u001b[0m\u001b[0m\n\u001b[1;32m      5\u001b[0m \u001b[0;32mfor\u001b[0m \u001b[0mquery\u001b[0m\u001b[0;34m,\u001b[0m \u001b[0mc1\u001b[0m\u001b[0;34m,\u001b[0m \u001b[0mc2\u001b[0m \u001b[0;32min\u001b[0m \u001b[0mzip\u001b[0m\u001b[0;34m(\u001b[0m\u001b[0mL\u001b[0m\u001b[0;34m[\u001b[0m\u001b[0;34m-\u001b[0m\u001b[0;36m2000\u001b[0m\u001b[0;34m:\u001b[0m\u001b[0;34m,\u001b[0m\u001b[0;36m0\u001b[0m\u001b[0;34m]\u001b[0m\u001b[0;34m,\u001b[0m \u001b[0mL\u001b[0m\u001b[0;34m[\u001b[0m\u001b[0;34m-\u001b[0m\u001b[0;36m2000\u001b[0m\u001b[0;34m:\u001b[0m\u001b[0;34m,\u001b[0m\u001b[0;36m1\u001b[0m\u001b[0;34m]\u001b[0m\u001b[0;34m,\u001b[0m \u001b[0mL\u001b[0m\u001b[0;34m[\u001b[0m\u001b[0;34m-\u001b[0m\u001b[0;36m2000\u001b[0m\u001b[0;34m:\u001b[0m\u001b[0;34m,\u001b[0m\u001b[0;36m2\u001b[0m\u001b[0;34m]\u001b[0m\u001b[0;34m)\u001b[0m\u001b[0;34m:\u001b[0m\u001b[0;34m\u001b[0m\u001b[0m\n\u001b[0;32m----> 6\u001b[0;31m     \u001b[0mqc1_dist\u001b[0m \u001b[0;34m=\u001b[0m \u001b[0mmetric\u001b[0m\u001b[0;34m.\u001b[0m\u001b[0mdistance\u001b[0m\u001b[0;34m(\u001b[0m\u001b[0mdataset\u001b[0m\u001b[0;34m[\u001b[0m\u001b[0;34m'X'\u001b[0m\u001b[0;34m]\u001b[0m\u001b[0;34m[\u001b[0m\u001b[0mquery\u001b[0m\u001b[0;34m]\u001b[0m\u001b[0;34m,\u001b[0m\u001b[0mdataset\u001b[0m\u001b[0;34m[\u001b[0m\u001b[0;34m'X'\u001b[0m\u001b[0;34m]\u001b[0m\u001b[0;34m[\u001b[0m\u001b[0mc1\u001b[0m\u001b[0;34m]\u001b[0m\u001b[0;34m)\u001b[0m\u001b[0;34m\u001b[0m\u001b[0m\n\u001b[0m\u001b[1;32m      7\u001b[0m     \u001b[0mqc2_dist\u001b[0m \u001b[0;34m=\u001b[0m \u001b[0mmetric\u001b[0m\u001b[0;34m.\u001b[0m\u001b[0mdistance\u001b[0m\u001b[0;34m(\u001b[0m\u001b[0mdataset\u001b[0m\u001b[0;34m[\u001b[0m\u001b[0;34m'X'\u001b[0m\u001b[0;34m]\u001b[0m\u001b[0;34m[\u001b[0m\u001b[0mquery\u001b[0m\u001b[0;34m]\u001b[0m\u001b[0;34m,\u001b[0m\u001b[0mdataset\u001b[0m\u001b[0;34m[\u001b[0m\u001b[0;34m'X'\u001b[0m\u001b[0;34m]\u001b[0m\u001b[0;34m[\u001b[0m\u001b[0mc2\u001b[0m\u001b[0;34m]\u001b[0m\u001b[0;34m)\u001b[0m\u001b[0;34m\u001b[0m\u001b[0m\n\u001b[1;32m      8\u001b[0m     \u001b[0;32mif\u001b[0m \u001b[0mqc1_dist\u001b[0m \u001b[0;34m<\u001b[0m \u001b[0mqc2_dist\u001b[0m\u001b[0;34m:\u001b[0m\u001b[0;34m\u001b[0m\u001b[0m\n",
      "\u001b[0;31mNameError\u001b[0m: name 'dataset' is not defined"
     ]
    }
   ],
   "source": [
    "metric = GSML(4)\n",
    "metric.fit(X, L[:-2000])\n",
    "total = 0\n",
    "tp = 0\n",
    "for query, c1, c2 in zip(L[-2000:,0], L[-2000:,1], L[-2000:,2]):\n",
    "    qc1_dist = metric.distance(X[query],X[c1])\n",
    "    qc2_dist = metric.distance(dataset['X'][query],dataset['X'][c2])\n",
    "    if qc1_dist < qc2_dist:\n",
    "        tp += 1\n",
    "    total += 1\n",
    "print total, tp, float(tp)/total"
   ]
  },
  {
   "cell_type": "code",
   "execution_count": null,
   "metadata": {
    "collapsed": true
   },
   "outputs": [],
   "source": []
  }
 ],
 "metadata": {
  "kernelspec": {
   "display_name": "Python 2",
   "language": "python",
   "name": "python2"
  },
  "language_info": {
   "codemirror_mode": {
    "name": "ipython",
    "version": 2
   },
   "file_extension": ".py",
   "mimetype": "text/x-python",
   "name": "python",
   "nbconvert_exporter": "python",
   "pygments_lexer": "ipython2",
   "version": "2.7.12"
  },
  "widgets": {
   "state": {},
   "version": "1.1.2"
  }
 },
 "nbformat": 4,
 "nbformat_minor": 0
}
