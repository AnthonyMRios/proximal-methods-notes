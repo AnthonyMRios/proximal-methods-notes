{
 "cells": [
  {
   "cell_type": "markdown",
   "metadata": {},
   "source": [
    "# LASSO Regression\n",
    "\n",
    "This notebook optimizes the following problem:\n",
    "\n",
    "$$ ||X\\beta-y||_2^2 + \\alpha||\\beta||_1$$\n",
    "\n",
    "Specifically, we compare subgradient and proximal gradient descent."
   ]
  },
  {
   "cell_type": "code",
   "execution_count": 2,
   "metadata": {
    "collapsed": true
   },
   "outputs": [],
   "source": [
    "%matplotlib inline\n",
    "\n",
    "import numpy as np\n",
    "import matplotlib.pyplot as plt"
   ]
  },
  {
   "cell_type": "markdown",
   "metadata": {},
   "source": [
    "Here we create a test dataset with 5001 examples and 5000 features."
   ]
  },
  {
   "cell_type": "code",
   "execution_count": 20,
   "metadata": {
    "collapsed": false
   },
   "outputs": [
    {
     "name": "stdout",
     "output_type": "stream",
     "text": [
      "(5000,)\n",
      "Number Non-zero: 193\n"
     ]
    }
   ],
   "source": [
    "p = 5000\n",
    "n = 5001\n",
    "xStar = np.zeros((p))\n",
    "xStar[np.floor(p*np.random.rand(200,1)).astype(np.int)]=1\n",
    "xStar = xStar*np.random.normal(0,10,(p,))\n",
    "\n",
    "# Generate A and b. b = Ax + error\n",
    "X = np.random.randn(n,p)\n",
    "y = X.dot(xStar) + np.random.randn(n)\n",
    "y = y.flatten()\n",
    "print 'Number Non-zero:', len([x for x in xStar if x != 0])"
   ]
  },
  {
   "cell_type": "markdown",
   "metadata": {},
   "source": [
    "We will run each test for 100 iterations with alpha value of 0.1.\n",
    "\n",
    "The learning rate for subgradient descent is set to 0.0001."
   ]
  },
  {
   "cell_type": "code",
   "execution_count": 4,
   "metadata": {
    "collapsed": true
   },
   "outputs": [],
   "source": [
    "max_iters = 100\n",
    "learning_rate = 0.0001\n",
    "beta_rand = np.random.random((X.shape[1],))*10.\n",
    "alpha = .1"
   ]
  },
  {
   "cell_type": "markdown",
   "metadata": {},
   "source": [
    "## Subgradient Descent"
   ]
  },
  {
   "cell_type": "code",
   "execution_count": 5,
   "metadata": {
    "collapsed": true
   },
   "outputs": [],
   "source": [
    "def grad_l1(beta, alpha):\n",
    "    grad = np.zeros(beta.shape)\n",
    "    grad[beta > 0] = 1.*alpha\n",
    "    grad[beta < 0] = -1.*alpha\n",
    "    grad[beta == 0] = 0.\n",
    "    return grad"
   ]
  },
  {
   "cell_type": "code",
   "execution_count": 6,
   "metadata": {
    "collapsed": false
   },
   "outputs": [],
   "source": [
    "def grad_least_squares(beta, X, y):\n",
    "    return (X.dot(beta)-y).dot(X)"
   ]
  },
  {
   "cell_type": "code",
   "execution_count": 7,
   "metadata": {
    "collapsed": false
   },
   "outputs": [],
   "source": [
    "def objective(beta, X, y, alpha):\n",
    "    cost = ((X.dot(beta)-y)**2).sum() + alpha*np.absolute(beta).sum()\n",
    "    return cost"
   ]
  },
  {
   "cell_type": "code",
   "execution_count": 8,
   "metadata": {
    "collapsed": false
   },
   "outputs": [],
   "source": [
    "beta = beta_rand.copy()"
   ]
  },
  {
   "cell_type": "code",
   "execution_count": 11,
   "metadata": {
    "collapsed": false
   },
   "outputs": [
    {
     "name": "stdout",
     "output_type": "stream",
     "text": [
      "loss: 312605.9561 learning_rate: 0.0001000000\n"
     ]
    }
   ],
   "source": [
    "sub_grads = []\n",
    "best_obj = None\n",
    "sub_grads.append(np.linalg.norm(beta-xStar))\n",
    "sub_grads2.append(np.absolute(objective(beta, X, y,alpha)-objective(xStar,X,y,alpha)))\n",
    "for i in range(max_iters):\n",
    "    gs = grad_least_squares(beta, X, y)\n",
    "    g_l1 = grad_l1(beta, alpha)\n",
    "    grad = gs+g_l1           \n",
    "    beta = beta - learning_rate * grad\n",
    "    sub_grads.append(np.linalg.norm(beta-xStar))\n",
    "    \n",
    "print 'loss: %.4f learning_rate: %.10f' % (objective(beta, X, y, alpha), learning_rate)"
   ]
  },
  {
   "cell_type": "code",
   "execution_count": 12,
   "metadata": {
    "collapsed": true
   },
   "outputs": [],
   "source": [
    "beta_sg = beta.copy()"
   ]
  },
  {
   "cell_type": "markdown",
   "metadata": {},
   "source": [
    "## Proximal Gradient Descent"
   ]
  },
  {
   "cell_type": "code",
   "execution_count": 21,
   "metadata": {
    "collapsed": true
   },
   "outputs": [],
   "source": [
    "def soft_thresh(beta, alpha):\n",
    "    return np.sign(beta)*np.maximum(0, np.absolute(beta)-alpha)"
   ]
  },
  {
   "cell_type": "code",
   "execution_count": 22,
   "metadata": {
    "collapsed": false
   },
   "outputs": [],
   "source": [
    "beta = beta_rand.copy()\n",
    "gamma = .1"
   ]
  },
  {
   "cell_type": "code",
   "execution_count": 23,
   "metadata": {
    "collapsed": false
   },
   "outputs": [
    {
     "name": "stdout",
     "output_type": "stream",
     "text": [
      "loss: 43610.9627 learning_rate: 0.00010000000000000003\n"
     ]
    }
   ],
   "source": [
    "prox_grads2 = []\n",
    "prox_grads = []\n",
    "prox_grads.append(np.linalg.norm(beta-xStar))\n",
    "prox_grads2.append(np.absolute(objective(beta, X, y,alpha)-objective(xStar,X,y,alpha)))\n",
    "for i in range(max_iters):\n",
    "    # Backtracking line search is used for setting the learning rate\n",
    "    learning_rate = 1.\n",
    "    grad = grad_least_squares(beta, X, y)  \n",
    "    while True:\n",
    "        m = objective(beta,X,y,alpha) + (learning_rate)*(grad.T.dot(grad))\n",
    "        if objective(beta-learning_rate*grad,X,y,alpha) > m:\n",
    "            learning_rate = gamma*learning_rate\n",
    "        else:\n",
    "            break\n",
    "    beta_m1 = beta       \n",
    "    beta = soft_thresh(beta - learning_rate*\n",
    "                       grad, alpha)\n",
    "    prox_grads.append(np.linalg.norm(beta-xStar))\n",
    "    prox_grads2.append(np.absolute(objective(beta, X, y,alpha)-objective(xStar,X,y,alpha)))\n",
    "    \n",
    "print 'loss: %.4f learning_rate: %.20f' % (objective(beta, X, y, alpha), learning_rate) \n",
    "#print beta"
   ]
  },
  {
   "cell_type": "code",
   "execution_count": 24,
   "metadata": {
    "collapsed": false
   },
   "outputs": [
    {
     "name": "stdout",
     "output_type": "stream",
     "text": [
      "Num Non-zero: 192\n"
     ]
    }
   ],
   "source": [
    "print 'Num Non-zero:', len([x for x in beta if x != 0])"
   ]
  },
  {
   "cell_type": "code",
   "execution_count": 16,
   "metadata": {
    "collapsed": true
   },
   "outputs": [],
   "source": [
    "beta_pg = beta.copy()"
   ]
  },
  {
   "cell_type": "markdown",
   "metadata": {
    "collapsed": false
   },
   "source": [
    "## Analysis\n",
    "\n",
    "Here we plot the convergence of the subgradient and proximal method."
   ]
  },
  {
   "cell_type": "code",
   "execution_count": 17,
   "metadata": {
    "collapsed": false
   },
   "outputs": [
    {
     "data": {
      "image/png": "[encoded data removed]",
      "text/plain": [
       "<matplotlib.figure.Figure at 0x10635ea50>"
      ]
     },
     "metadata": {},
     "output_type": "display_data"
    }
   ],
   "source": [
    "sub_grads1 = np.array(sub_grads)\n",
    "prox_grads1 = np.array(prox_grads)\n",
    "\n",
    "plt.plot(range(sub_grads1.shape[0]), sub_grads1)\n",
    "plt.plot(range(prox_grads1.shape[0]), prox_grads1)\n",
    "plt.legend(['subgrad (1/sqrt(k))','proxgrad (1/k)'], loc='upper right')\n",
    "plt.axis([0,100,0,sub_grads1[0:].max()])\n",
    "plt.ylabel('||B-B*||_2')\n",
    "plt.xlabel('Iteration')\n",
    "plt.title('LASSO Convergence')\n",
    "plt.show()"
   ]
  },
  {
   "cell_type": "code",
   "execution_count": 18,
   "metadata": {
    "collapsed": false
   },
   "outputs": [
    {
     "name": "stdout",
     "output_type": "stream",
     "text": [
      "nnz_bStar: 96 nnz_sg: 3010 nnz_pg: 94\n"
     ]
    }
   ],
   "source": [
    "num_non_zero_xStar = len([x for x in xStar if x > 0])\n",
    "num_non_zero_pg = len([x for x in beta_pg if x > 0])\n",
    "num_non_zero_sg = len([x for x in beta_sg if x > 0])\n",
    "print 'nnz_bStar: %d nnz_sg: %d nnz_pg: %d' % (num_non_zero_xStar, num_non_zero_sg,\n",
    "                                               num_non_zero_pg)"
   ]
  },
  {
   "cell_type": "code",
   "execution_count": 19,
   "metadata": {
    "collapsed": false
   },
   "outputs": [
    {
     "data": {
      "image/png": "[encoded data removed]",
      "text/plain": [
       "<matplotlib.figure.Figure at 0x107e60790>"
      ]
     },
     "metadata": {},
     "output_type": "display_data"
    }
   ],
   "source": [
    "plt.plot(range(1,100),1/(np.sqrt(range(1,100))))\n",
    "plt.plot(range(1,100),1./(np.array(range(1,100))))\n",
    "plt.legend(['subgrad (1/sqrt(k))','proxgrad (1/k)'], loc='upper right')\n",
    "plt.ylabel('||B-B*||_2')\n",
    "plt.xlabel('Iteration')\n",
    "plt.title('Theoretical LASSO Convergence')\n",
    "plt.axis([1,100,0,1])\n",
    "plt.show()"
   ]
  },
  {
   "cell_type": "code",
   "execution_count": null,
   "metadata": {
    "collapsed": true
   },
   "outputs": [],
   "source": []
  }
 ],
 "metadata": {
  "kernelspec": {
   "display_name": "Python 2",
   "language": "python",
   "name": "python2"
  },
  "language_info": {
   "codemirror_mode": {
    "name": "ipython",
    "version": 2
   },
   "file_extension": ".py",
   "mimetype": "text/x-python",
   "name": "python",
   "nbconvert_exporter": "python",
   "pygments_lexer": "ipython2",
   "version": "2.7.12"
  },
  "widgets": {
   "state": {},
   "version": "1.1.2"
  }
 },
 "nbformat": 4,
 "nbformat_minor": 0
}
